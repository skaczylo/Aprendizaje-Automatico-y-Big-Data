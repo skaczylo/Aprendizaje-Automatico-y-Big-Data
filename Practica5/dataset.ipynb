{
 "cells": [
  {
   "cell_type": "markdown",
   "id": "9e3562a7",
   "metadata": {},
   "source": [
    "En este notebook analizar el dataset : definir la clase implementada, estudiar los datos etc..."
   ]
  }
 ],
 "metadata": {
  "language_info": {
   "name": "python"
  }
 },
 "nbformat": 4,
 "nbformat_minor": 5
}
