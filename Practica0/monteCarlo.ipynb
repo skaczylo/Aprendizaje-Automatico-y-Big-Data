{
 "cells": [
  {
   "cell_type": "markdown",
   "metadata": {},
   "source": [
    "# Práctica 0 \n",
    "### Adrian Carlos Skaczylo e Itziar López Almagro\n",
    "\n"
   ]
  },
  {
   "cell_type": "code",
   "execution_count": 1,
   "metadata": {},
   "outputs": [],
   "source": [
    "import numpy as np"
   ]
  },
  {
   "cell_type": "code",
   "execution_count": null,
   "metadata": {},
   "outputs": [],
   "source": [
    "\n",
    "\n",
    "\n",
    "def integra_mc(fun, a, b, num_puntos =10000):\n",
    "    #Calcular maximo M ¿Como calcular maximo de la funcion ?\n",
    "    \n",
    "    for i in range(0,num_puntos):\n",
    "\n",
    "        #generar un punto\n",
    "        # ver si esta debajo\n",
    "\n",
    "    \n",
    "    #Calcular aproximacion de la integral : (N_debajo/N_total)*(b-a)*M\n",
    "\n",
    "\n",
    "\n",
    "\n"
   ]
  }
 ],
 "metadata": {
  "kernelspec": {
   "display_name": "Python 3",
   "language": "python",
   "name": "python3"
  },
  "language_info": {
   "codemirror_mode": {
    "name": "ipython",
    "version": 3
   },
   "file_extension": ".py",
   "mimetype": "text/x-python",
   "name": "python",
   "nbconvert_exporter": "python",
   "pygments_lexer": "ipython3",
   "version": "3.11.9"
  }
 },
 "nbformat": 4,
 "nbformat_minor": 2
}
