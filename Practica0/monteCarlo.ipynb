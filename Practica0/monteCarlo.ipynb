{
 "cells": [
  {
   "cell_type": "markdown",
   "metadata": {},
   "source": [
    "# Práctica 0 \n",
    "### Adrian Carlos Skaczylo e Itziar López Almagro\n",
    "\n"
   ]
  },
  {
   "cell_type": "code",
   "execution_count": 29,
   "metadata": {},
   "outputs": [],
   "source": [
    "import numpy as np\n",
    "import random\n",
    "N = 1000"
   ]
  },
  {
   "cell_type": "code",
   "execution_count": 50,
   "metadata": {},
   "outputs": [],
   "source": [
    "def f(x):\n",
    "     return -(x)**2 +1\n"
   ]
  },
  {
   "cell_type": "code",
   "execution_count": 42,
   "metadata": {},
   "outputs": [],
   "source": [
    "def maximo_relativos(a,b,fun):\n",
    "    subintervalos = np.linspace(a,b,N) #Division del intervalo [a,b]\n",
    "\n",
    "    valores = [fun(x) for x in subintervalos] #evaluamos f(x_i)\n",
    "    return max(valores)\n"
   ]
  },
  {
   "cell_type": "code",
   "execution_count": 52,
   "metadata": {},
   "outputs": [],
   "source": [
    "def integra_mc(fun, a, b, num_puntos =10000):\n",
    "\n",
    "    \n",
    "    #Calcular maximo M ¿Como calcular maximo de la funcion ?\n",
    "    M = maximo_relativos(a,b,fun)\n",
    "    N_Debajo = 0\n",
    "    for i in range(0,num_puntos):\n",
    "        \n",
    "        #generar un punto\n",
    "        punto = (random.uniform(a,b),random.uniform(0,M))\n",
    "\n",
    "        if punto[1] <= fun(punto[0]) :\n",
    "            N_Debajo +=1\n",
    "\n",
    "    return (N_Debajo/num_puntos)*(b-a)*M\n"
   ]
  },
  {
   "cell_type": "code",
   "execution_count": null,
   "metadata": {},
   "outputs": [],
   "source": [
    "def integra_mc2(fun,a,b,num_puntos=10000):\n",
    "    M = maximo_relativos(a,b,fun)\n",
    "    x_vector = np.linspace(a,b,num_puntos)\n",
    "    y_vector = np.linspace(0,M,num_puntos)\n",
    "    f_evaluados = f(x_vector)\n",
    "    \n",
    "    N_debajo = np.sum(y_vector <= f_evaluados)\n",
    "\n",
    "    return (N_debajo/num_puntos)*(b-a)*M"
   ]
  },
  {
   "cell_type": "code",
   "execution_count": null,
   "metadata": {},
   "outputs": [],
   "source": [
    "integra_mc(f,-1,1,10000)"
   ]
  },
  {
   "cell_type": "code",
   "execution_count": 53,
   "metadata": {},
   "outputs": [
    {
     "name": "stdout",
     "output_type": "stream",
     "text": [
      "0.999998997996996\n"
     ]
    },
    {
     "data": {
      "text/plain": [
       "np.float64(0.00019999979959939922)"
      ]
     },
     "execution_count": 53,
     "metadata": {},
     "output_type": "execute_result"
    }
   ],
   "source": [
    "integra_mc2(f,-1,1,10000)"
   ]
  }
 ],
 "metadata": {
  "kernelspec": {
   "display_name": "Python 3",
   "language": "python",
   "name": "python3"
  },
  "language_info": {
   "codemirror_mode": {
    "name": "ipython",
    "version": 3
   },
   "file_extension": ".py",
   "mimetype": "text/x-python",
   "name": "python",
   "nbconvert_exporter": "python",
   "pygments_lexer": "ipython3",
   "version": "3.11.9"
  }
 },
 "nbformat": 4,
 "nbformat_minor": 2
}
